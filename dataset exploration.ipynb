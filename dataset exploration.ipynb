{
 "cells": [
  {
   "cell_type": "markdown",
   "metadata": {},
   "source": [
    "# SQuAD Dataset https://rajpurkar.github.io/SQuAD-explorer/"
   ]
  },
  {
   "cell_type": "code",
   "execution_count": 62,
   "metadata": {},
   "outputs": [
    {
     "data": {
      "text/plain": [
       "'1.1'"
      ]
     },
     "execution_count": 62,
     "metadata": {},
     "output_type": "execute_result"
    }
   ],
   "source": [
    "import json\n",
    "squad = json.load(open('datasets/SQuAD.json'))\n",
    "squad['version']"
   ]
  },
  {
   "cell_type": "code",
   "execution_count": 16,
   "metadata": {},
   "outputs": [
    {
     "name": "stdout",
     "output_type": "stream",
     "text": [
      "documents count:  442\n"
     ]
    }
   ],
   "source": [
    "print(\"documents count: \", len(squad['data']))"
   ]
  },
  {
   "cell_type": "code",
   "execution_count": 63,
   "metadata": {},
   "outputs": [
    {
     "name": "stdout",
     "output_type": "stream",
     "text": [
      "University_of_Notre_Dame\n",
      "paragraphs count:  55\n"
     ]
    }
   ],
   "source": [
    "squad_item=squad['data'][0]\n",
    "print(squad_item['title'])\n",
    "print('paragraphs count: ',len(squad_item['paragraphs']))"
   ]
  },
  {
   "cell_type": "code",
   "execution_count": 64,
   "metadata": {},
   "outputs": [
    {
     "data": {
      "text/plain": [
       "{'context': 'Architecturally, the school has a Catholic character. Atop the Main Building\\'s gold dome is a golden statue of the Virgin Mary. Immediately in front of the Main Building and facing it, is a copper statue of Christ with arms upraised with the legend \"Venite Ad Me Omnes\". Next to the Main Building is the Basilica of the Sacred Heart. Immediately behind the basilica is the Grotto, a Marian place of prayer and reflection. It is a replica of the grotto at Lourdes, France where the Virgin Mary reputedly appeared to Saint Bernadette Soubirous in 1858. At the end of the main drive (and in a direct line that connects through 3 statues and the Gold Dome), is a simple, modern stone statue of Mary.',\n",
       " 'qas': [{'answers': [{'answer_start': 515,\n",
       "     'text': 'Saint Bernadette Soubirous'}],\n",
       "   'id': '5733be284776f41900661182',\n",
       "   'question': 'To whom did the Virgin Mary allegedly appear in 1858 in Lourdes France?'},\n",
       "  {'answers': [{'answer_start': 188, 'text': 'a copper statue of Christ'}],\n",
       "   'id': '5733be284776f4190066117f',\n",
       "   'question': 'What is in front of the Notre Dame Main Building?'},\n",
       "  {'answers': [{'answer_start': 279, 'text': 'the Main Building'}],\n",
       "   'id': '5733be284776f41900661180',\n",
       "   'question': 'The Basilica of the Sacred heart at Notre Dame is beside to which structure?'},\n",
       "  {'answers': [{'answer_start': 381,\n",
       "     'text': 'a Marian place of prayer and reflection'}],\n",
       "   'id': '5733be284776f41900661181',\n",
       "   'question': 'What is the Grotto at Notre Dame?'},\n",
       "  {'answers': [{'answer_start': 92,\n",
       "     'text': 'a golden statue of the Virgin Mary'}],\n",
       "   'id': '5733be284776f4190066117e',\n",
       "   'question': 'What sits on top of the Main Building at Notre Dame?'}]}"
      ]
     },
     "execution_count": 64,
     "metadata": {},
     "output_type": "execute_result"
    }
   ],
   "source": [
    "squad_item['paragraphs'][0]"
   ]
  },
  {
   "cell_type": "code",
   "execution_count": 15,
   "metadata": {},
   "outputs": [
    {
     "data": {
      "text/plain": [
       "[{'answers': [{'answer_start': 515, 'text': 'Saint Bernadette Soubirous'}],\n",
       "  'id': '5733be284776f41900661182',\n",
       "  'question': 'To whom did the Virgin Mary allegedly appear in 1858 in Lourdes France?'},\n",
       " {'answers': [{'answer_start': 188, 'text': 'a copper statue of Christ'}],\n",
       "  'id': '5733be284776f4190066117f',\n",
       "  'question': 'What is in front of the Notre Dame Main Building?'},\n",
       " {'answers': [{'answer_start': 279, 'text': 'the Main Building'}],\n",
       "  'id': '5733be284776f41900661180',\n",
       "  'question': 'The Basilica of the Sacred heart at Notre Dame is beside to which structure?'},\n",
       " {'answers': [{'answer_start': 381,\n",
       "    'text': 'a Marian place of prayer and reflection'}],\n",
       "  'id': '5733be284776f41900661181',\n",
       "  'question': 'What is the Grotto at Notre Dame?'},\n",
       " {'answers': [{'answer_start': 92,\n",
       "    'text': 'a golden statue of the Virgin Mary'}],\n",
       "  'id': '5733be284776f4190066117e',\n",
       "  'question': 'What sits on top of the Main Building at Notre Dame?'}]"
      ]
     },
     "execution_count": 15,
     "metadata": {},
     "output_type": "execute_result"
    }
   ],
   "source": [
    "squad_item['paragraphs'][0]['qas']"
   ]
  },
  {
   "cell_type": "code",
   "execution_count": null,
   "metadata": {},
   "outputs": [],
   "source": [
    "# How to use this data:\n",
    "1 concat paragraphs to documents\n",
    "    1.1 validate dockument to paragraph splitter\n",
    "    1.2 validate IR model: pass question validate if correct passage retrived\n",
    "2 Test machine reading comprehansion to retrive direct answer"
   ]
  },
  {
   "cell_type": "markdown",
   "metadata": {},
   "source": [
    "# CNN and Daily Mail https://github.com/deepmind/rc-data"
   ]
  },
  {
   "cell_type": "raw",
   "metadata": {},
   "source": [
    "question looks like:\n",
    "\n",
    "( @entity0 ) -- thanks to a crop of how - to dating shows , such as @entity4 's \" @entity3 \" and @entity6 's \" @entity5 , \" more people are reaching out to matchmakers , making an age - old art fashionable again .Answer"
   ]
  },
  {
   "cell_type": "raw",
   "metadata": {},
   "source": [
    "answer:\n",
    "\n",
    "@entity3:Millionaire Matchmaker\n",
    "@entity0:CNN\n",
    "@entity6:VH1"
   ]
  },
  {
   "cell_type": "code",
   "execution_count": null,
   "metadata": {},
   "outputs": [],
   "source": [
    "Поки не знаю як можна застосувати цей датасет напряму без якогось додаткового процесінгу"
   ]
  },
  {
   "cell_type": "markdown",
   "metadata": {},
   "source": [
    "# MS MARCO http://www.msmarco.org/dataset.aspx"
   ]
  },
  {
   "cell_type": "markdown",
   "metadata": {},
   "source": [
    "## MS Marco 1"
   ]
  },
  {
   "cell_type": "code",
   "execution_count": 28,
   "metadata": {},
   "outputs": [],
   "source": [
    "import gzip\n",
    "msmarco_1=[]\n",
    "with gzip.open('datasets/MSMarco/train_v1.1.json.gz', 'r') as f:\n",
    "    for line in f:\n",
    "        msmarco_1.append(json.loads(line.decode('utf-8')))"
   ]
  },
  {
   "cell_type": "code",
   "execution_count": 29,
   "metadata": {},
   "outputs": [
    {
     "data": {
      "text/plain": [
       "82326"
      ]
     },
     "execution_count": 29,
     "metadata": {},
     "output_type": "execute_result"
    }
   ],
   "source": [
    "len(msmarco_1)"
   ]
  },
  {
   "cell_type": "code",
   "execution_count": 33,
   "metadata": {},
   "outputs": [
    {
     "data": {
      "text/plain": [
       "dict_keys(['passages', 'query_id', 'answers', 'query_type', 'query'])"
      ]
     },
     "execution_count": 33,
     "metadata": {},
     "output_type": "execute_result"
    }
   ],
   "source": [
    "msmarco_1_item=msmarco_1[0]\n",
    "msmarco_1_item.keys()"
   ]
  },
  {
   "cell_type": "code",
   "execution_count": 41,
   "metadata": {},
   "outputs": [
    {
     "name": "stdout",
     "output_type": "stream",
     "text": [
      "passages count:  10\n"
     ]
    },
    {
     "data": {
      "text/plain": [
       "{'is_selected': 1,\n",
       " 'passage_text': 'Results-Based Accountability® (also known as RBA) is a disciplined way of thinking and taking action that communities can use to improve the lives of children, youth, families, adults and the community as a whole. RBA is also used by organizations to improve the performance of their programs. Creating Community Impact with RBA. Community impact focuses on conditions of well-being for children, families and the community as a whole that a group of leaders is working collectively to improve. For example: “Residents with good jobs,” “Children ready for school,” or “A safe and clean neighborhood”.',\n",
       " 'url': 'http://resultsleadership.org/what-is-results-based-accountability-rba/'}"
      ]
     },
     "execution_count": 41,
     "metadata": {},
     "output_type": "execute_result"
    }
   ],
   "source": [
    "print(\"passages count: \",len(msmarco_1_item['passages']))\n",
    "msmarco_1_item['passages'][5]"
   ]
  },
  {
   "cell_type": "code",
   "execution_count": 43,
   "metadata": {},
   "outputs": [
    {
     "name": "stdout",
     "output_type": "stream",
     "text": [
      "Data was collected over:\n"
     ]
    },
    {
     "data": {
      "text/plain": [
       "['https://en.wikipedia.org/wiki/Reserve_Bank_of_Australia',\n",
       " 'https://en.wikipedia.org/wiki/Reserve_Bank_of_Australia',\n",
       " 'http://acronyms.thefreedictionary.com/RBA',\n",
       " 'https://www.slimvapepen.com/rebuildable-atomizer-rba/',\n",
       " 'http://rba-africa.com/about/what-is-rba/',\n",
       " 'http://resultsleadership.org/what-is-results-based-accountability-rba/',\n",
       " 'http://rba-africa.com/about/what-is-rba/',\n",
       " 'http://searchsecurity.techtarget.com/definition/risk-based-authentication-RBA',\n",
       " 'https://www.slimvapepen.com/rebuildable-atomizer-rba/',\n",
       " 'http://www.rbaconsulting.com/']"
      ]
     },
     "execution_count": 43,
     "metadata": {},
     "output_type": "execute_result"
    }
   ],
   "source": [
    "print('Data was collected over:')\n",
    "[passage['url'] for passage in msmarco_1_item['passages']]"
   ]
  },
  {
   "cell_type": "code",
   "execution_count": 37,
   "metadata": {},
   "outputs": [
    {
     "data": {
      "text/plain": [
       "['Results-Based Accountability is a disciplined way of thinking and taking action that communities can use to improve the lives of children, youth, families, adults and the community as a whole.']"
      ]
     },
     "execution_count": 37,
     "metadata": {},
     "output_type": "execute_result"
    }
   ],
   "source": [
    "msmarco_1_item['answers']"
   ]
  },
  {
   "cell_type": "code",
   "execution_count": 38,
   "metadata": {},
   "outputs": [
    {
     "data": {
      "text/plain": [
       "'description'"
      ]
     },
     "execution_count": 38,
     "metadata": {},
     "output_type": "execute_result"
    }
   ],
   "source": [
    "msmarco_1_item['query_type']"
   ]
  },
  {
   "cell_type": "code",
   "execution_count": 39,
   "metadata": {},
   "outputs": [
    {
     "data": {
      "text/plain": [
       "'what is rba'"
      ]
     },
     "execution_count": 39,
     "metadata": {},
     "output_type": "execute_result"
    }
   ],
   "source": [
    "msmarco_1_item['query']"
   ]
  },
  {
   "cell_type": "code",
   "execution_count": 46,
   "metadata": {},
   "outputs": [],
   "source": [
    "from collections import Counter\n",
    "\n",
    "question_types=[]\n",
    "for question_block in msmarco_1:\n",
    "    question_types.append(question_block['query_type'])\n",
    "    \n",
    "question_types_counter = Counter(question_types)"
   ]
  },
  {
   "cell_type": "code",
   "execution_count": 57,
   "metadata": {},
   "outputs": [
    {
     "data": {
      "text/plain": [
       "Counter({'description': 44961,\n",
       "         'entity': 8529,\n",
       "         'location': 4052,\n",
       "         'numeric': 22758,\n",
       "         'person': 2026})"
      ]
     },
     "execution_count": 57,
     "metadata": {},
     "output_type": "execute_result"
    }
   ],
   "source": [
    "question_types_counter"
   ]
  },
  {
   "cell_type": "markdown",
   "metadata": {},
   "source": [
    "## MS Marco 2"
   ]
  },
  {
   "cell_type": "code",
   "execution_count": 38,
   "metadata": {},
   "outputs": [],
   "source": [
    "import gzip\n",
    "import json\n",
    "msmarco_2=[]\n",
    "with gzip.open('datasets/MSMarco/train_v2.0.tar.gz', 'r') as f:\n",
    "    data = f.read().decode('utf-8')"
   ]
  },
  {
   "cell_type": "code",
   "execution_count": 39,
   "metadata": {},
   "outputs": [],
   "source": [
    "data = data[data.index('{'):data.rfind('}')+1]"
   ]
  },
  {
   "cell_type": "code",
   "execution_count": 41,
   "metadata": {},
   "outputs": [
    {
     "data": {
      "text/plain": [
       "290"
      ]
     },
     "execution_count": 41,
     "metadata": {},
     "output_type": "execute_result"
    }
   ],
   "source": [
    "import gc\n",
    "gc.collect()"
   ]
  },
  {
   "cell_type": "code",
   "execution_count": 42,
   "metadata": {},
   "outputs": [],
   "source": [
    "msmarco_2 = json.loads(data)"
   ]
  },
  {
   "cell_type": "code",
   "execution_count": 43,
   "metadata": {},
   "outputs": [
    {
     "data": {
      "text/plain": [
       "0"
      ]
     },
     "execution_count": 43,
     "metadata": {},
     "output_type": "execute_result"
    }
   ],
   "source": [
    "del data\n",
    "gc.collect()"
   ]
  },
  {
   "cell_type": "code",
   "execution_count": 44,
   "metadata": {},
   "outputs": [
    {
     "data": {
      "text/plain": [
       "dict_keys(['answers', 'passages', 'query', 'query_id'])"
      ]
     },
     "execution_count": 44,
     "metadata": {},
     "output_type": "execute_result"
    }
   ],
   "source": [
    "msmarco_2.keys()"
   ]
  },
  {
   "cell_type": "code",
   "execution_count": 51,
   "metadata": {},
   "outputs": [
    {
     "data": {
      "text/plain": [
       "727226"
      ]
     },
     "execution_count": 51,
     "metadata": {},
     "output_type": "execute_result"
    }
   ],
   "source": [
    "len(msmarco_2['query'])"
   ]
  },
  {
   "cell_type": "code",
   "execution_count": 60,
   "metadata": {},
   "outputs": [
    {
     "name": "stdout",
     "output_type": "stream",
     "text": [
      "average cost to build large retaining wall\n",
      "[{'url': 'http://www.concretenetwork.com/concrete/poured_concrete_retaining_walls/cost.html', 'passage_text': 'Retaining Wall Cost. Poured retaining walls with elaborate curves require complex formwork and will drive up cost for a wall. The total cost to have a concrete retaining wall installed will be a combination of material and labor prices. For a basic wall you can expect to pay between $30 and $40 per square foot.If you add a decorative finish, curves, steps, lighting or other upgrades, the cost will rise.or Ralston, $39 per square foot is the average cost he charges for a wall under 4 feet tall. For walls below 4 feet, he says his prices are often competitive with finished block. A block wall has to be stuccoed or finished with veneer, while a concrete wall does not need an added finish.', 'is_selected': 1}, {'url': 'http://home.costhelper.com/retaining-wall.html', 'passage_text': '1 Materials and installation for a stone retaining wall start around $25-$40 a square face foot and go up depending on materials, site conditions, and other factors. 2  It costs $1,250-$2,000 or more for a wall 30 inches high and 20 feet long.hopping for a retaining wall: 1  Hiring an engineer to help design a retaining wall can run about $200-$500 or more, depending on the complexity and extent of the project. 2  Hiring an engineer is strongly recommended for walls over 3 feet high.', 'is_selected': 0}, {'url': 'http://www.costowl.com/home-improvement/landscaping-retaining-wall-cost.html', 'passage_text': 'Concrete Retaining Wall Prices. Concrete retaining wall prices start around $30 per square foot including materials and installation and can go as high as $45 to $50 per square foot depending on how much prep work is involved in building the forms.Walls higher than four feet typically require a different type of form which will raise the cost.ood Retaining Wall Prices. Wooden retaining walls start at around $20 per square foot including materials and installation if using cost-effective pressure treated lumber. Hardwoods such as redwood, Cyprus or mahogany will raise the price over $30 per surface square foot but add an element of beauty to your wall.', 'is_selected': 0}, {'url': 'http://home.costhelper.com/retaining-wall.html', 'passage_text': '1 Do-it-yourself materials cost about $10-$15 a square face foot. 2  ThisOldHouse.com provides a video showing how to build a block wall, calling the project challenging and estimating it will take two people 8-10 hours for a low wall 10-16 feet long.hopping for a retaining wall: 1  Hiring an engineer to help design a retaining wall can run about $200-$500 or more, depending on the complexity and extent of the project. 2  Hiring an engineer is strongly recommended for walls over 3 feet high.', 'is_selected': 0}, {'url': 'http://home.costhelper.com/retaining-wall.html', 'passage_text': \"1 Material and labor for a wood retaining wall runs approximately $20-$25 a square face foot (and there's usually a minimum charge for small projects), which would be about $1,000-$1,300 for a 50-square-face-foot wall.hopping for a retaining wall: 1  Hiring an engineer to help design a retaining wall can run about $200-$500 or more, depending on the complexity and extent of the project. 2  Hiring an engineer is strongly recommended for walls over 3 feet high.\", 'is_selected': 0}, {'url': 'http://www.fixr.com/costs/retaining-wall-building', 'passage_text': \"1 When the wall is increased to 8' in height the cost will average at $13,700, and when the height is bumped up to 10' the cost increases to $19,900.2  Estimates and quotes-like many other major construction projects it is advisable to seek out estimates from a range of providers.or the purpose of this discussion we will consider the costs of building a retaining wall from cast concrete and at a length of 50 linear feet. We will also take into consideration various heights as well, ranging from six, eight and ten feet.\", 'is_selected': 0}, {'url': 'http://www.fixr.com/costs/retaining-wall-building', 'passage_text': \"1 The Wall-for a cast in place (concrete) retaining wall with a vertical face, installed on no more than a 33 degree slope with a level embankment, at 6' high (including excavation and backfill) the cost will be $12,800.or the purpose of this discussion we will consider the costs of building a retaining wall from cast concrete and at a length of 50 linear feet. We will also take into consideration various heights as well, ranging from six, eight and ten feet.\", 'is_selected': 0}, {'url': 'http://home.costhelper.com/retaining-wall.html', 'passage_text': '1 Hiring an engineer to help design a retaining wall can run about $200-$500 or more, depending on the complexity and extent of the project. 2  Hiring an engineer is strongly recommended for walls over 3 feet high.hopping for a retaining wall: 1  Hiring an engineer to help design a retaining wall can run about $200-$500 or more, depending on the complexity and extent of the project. 2  Hiring an engineer is strongly recommended for walls over 3 feet high.', 'is_selected': 0}, {'url': 'http://home.costhelper.com/retaining-wall.html', 'passage_text': 'Shopping for a retaining wall: 1  Hiring an engineer to help design a retaining wall can run about $200-$500 or more, depending on the complexity and extent of the project. 2  Hiring an engineer is strongly recommended for walls over 3 feet high.hopping for a retaining wall: 1  Hiring an engineer to help design a retaining wall can run about $200-$500 or more, depending on the complexity and extent of the project. 2  Hiring an engineer is strongly recommended for walls over 3 feet high.', 'is_selected': 0}, {'url': 'http://www.fixr.com/costs/retaining-wall-building', 'passage_text': \"1 Costs will vary widely. 2  The Wall-for a cast in place (concrete) retaining wall with a vertical face, installed on no more than a 33 degree slope with a level embankment, at 6' high (including excavation and backfill) the cost will be $12,800.or the purpose of this discussion we will consider the costs of building a retaining wall from cast concrete and at a length of 50 linear feet. We will also take into consideration various heights as well, ranging from six, eight and ten feet.\", 'is_selected': 0}]\n",
      "['Between $30 and $40 per square foot']\n",
      "35039\n",
      "++++++++++++++++++++++++++++++++\n",
      "average hospital stay cost\n",
      "[{'url': 'http://www.hcup-us.ahrq.gov/reports/statbriefs/sb146.pdf', 'passage_text': 'Findings. Hospital costs by age, 2010. In 2010, the average cost per hospital stay was $9,700 and the aggregate cost for all hospital stays totaled $375.9 billion. Figures 1 and 2 show the distribution of aggregate hospital costs and stays by age and the average hospital cost per stay by age, respectively.Adults ages 45–64 and 65–84 had the highest average cost per. stay ($12,100 and $12,300, respectively).igures 1 and 2 show the distribution of aggregate hospital costs and stays by age and the average hospital cost per stay by age, respectively. Adults ages 45–64 and 65–84 had the highest average cost per. stay ($12,100 and $12,300, respectively).', 'is_selected': 0}, {'url': 'http://articles.latimes.com/2012/mar/06/business/la-fi-mo-u.s.-medical-prices-high-20120306', 'passage_text': \"Among the results: Cost per day for hospital charges averaged $3,949 in the U.S., followed by Chile at $1,552. The average hospital cost for a U.S. patient’s total stay was $15,734; Germany was next at $5,004.For appendectomies, the total facility and physician costs averaged $13,003 in the U.S., followed by Switzerland at $5,840.arch 06, 2012 | By Patrick McMahon. The average hospital cost for a U.S. patient's total stay was $15,734;… (Jamie Rector / For The Times). A study comparing prices for hospital stays, physician office visits, drugs and other medical procedures in developed countries shows U.S. prices among the most expensive.\", 'is_selected': 0}, {'url': 'http://www.ncpa.org/sub/dpd/index.php?Article_ID=9413', 'passage_text': '1 The incremental costs incurred by patients on their last full day of hospital stay were $420 per day on average, or just 2.4 percent of the $17,734 average total cost.2  End-of-stay costs represented only a slightly higher percentage of total costs when the length of stay was as short as four days. The remaining 58 percent was hospital overhead. 2  The first day of admission cost $1,246 on average, while the cost of discharging a patient averaged $304. 3  Approximately 40 percent of the costs were incurred during the first 3 days.', 'is_selected': 1}, {'url': 'http://articles.latimes.com/2012/mar/06/business/la-fi-mo-u.s.-medical-prices-high-20120306', 'passage_text': \"March 06, 2012 | By Patrick McMahon. The average hospital cost for a U.S. patient's total stay was $15,734;… (Jamie Rector / For The Times). A study comparing prices for hospital stays, physician office visits, drugs and other medical procedures in developed countries shows U.S. prices among the most expensive.arch 06, 2012 | By Patrick McMahon. The average hospital cost for a U.S. patient's total stay was $15,734;… (Jamie Rector / For The Times). A study comparing prices for hospital stays, physician office visits, drugs and other medical procedures in developed countries shows U.S. prices among the most expensive.\", 'is_selected': 0}, {'url': 'http://www.ncpa.org/sub/dpd/index.php?Article_ID=9413', 'passage_text': 'They found: 1  The incremental costs incurred by patients on their last full day of hospital stay were $420 per day on average, or just 2.4 percent of the $17,734 average total cost.2  End-of-stay costs represented only a slightly higher percentage of total costs when the length of stay was as short as four days. The remaining 58 percent was hospital overhead. 2  The first day of admission cost $1,246 on average, while the cost of discharging a patient averaged $304. 3  Approximately 40 percent of the costs were incurred during the first 3 days.', 'is_selected': 0}, {'url': 'https://www.debt.org/medical/hospital-surgery-costs/', 'passage_text': 'Hospital and Surgery Costs. Total health care spending in America was approximately $2.7 trillion in 2011. A little over 31 percent of that amount, or $814 billion, was spent on hospital services. Hospital costs averaged $3,949 per day, and costs per stay averaged $15,734.According to the U.S. Centers for Disease Control and Prevention (CDC), the total number of inpatient surgeries performed in 2009 was 48 million. little over 31 percent of that amount, or $814 billion, was spent on hospital services. Hospital costs averaged $3,949 per day, and costs per stay averaged $15,734. According to the U.S. Centers for Disease Control and Prevention (CDC), the total number of inpatient surgeries performed in 2009 was 48 million.', 'is_selected': 0}, {'url': 'http://www.parents.com/pregnancy/considering-baby/financing-family/birth-hospital-costs/', 'passage_text': \"On average, U.S. hospital deliveries cost $3,500 per stay, according to the Agency for Healthcare Research and Quality Healthcare Cost and Utilization Project. Add in prenatal, delivery-related and post-partum healthcare, and you're looking at an $8,802 tab, according to a Thomson Healthcare study for March of Dimes.or example, a delivery stay costs an average of 55 percent more ($5,900) for a woman with diabetes, according to the Agency for Healthcare Research and Quality Healthcare Cost and Utilization Project. Premature birth is one of the largest game-changers in terms of medical costs, occurring in about 1 of 8 pregnancies.\", 'is_selected': 0}, {'url': 'http://www.beckershospitalreview.com/finance/11-statistics-on-average-hospital-costs-per-stay.html', 'passage_text': 'In 2011, hospital stays cost a cumulative $387.3 billion, which averages out to about $10,000 per stay, according to a new statistical brief from the Agency for Healthcare Research and Quality.n 2011, hospital stays cost a cumulative $387.3 billion, which averages out to about $10,000 per stay, according to a new statistical brief from the Agency for Healthcare Research and Quality.', 'is_selected': 0}, {'url': 'http://www.facethefactsusa.org/facts/hospital-costs-nearly-double-in-decade', 'passage_text': 'Charges are lower overseas, despite longer stays. The cost of the average American hospital stay nearly doubled from 2000 to 2010 while average stay length declined. The decade was a period of low inflation, but some sectors of the economy didn’t get the memo.harges are lower overseas, despite longer stays. The cost of the average American hospital stay nearly doubled from 2000 to 2010 while average stay length declined. The decade was a period of low inflation, but some sectors of the economy didn’t get the memo.', 'is_selected': 0}, {'url': 'http://www.aetna.com/voluntary/hospital.html', 'passage_text': 'Hospital stays can put a strain on your personal finances. The average cost of a one-day stay in the hospital is over $1,700.*.This valuable coverage provides fixed payments when you’re hospitalized to help cover out-of-pocket costs. Accidents and illnesses can happen-and sometimes result in an inpatient hospital stay.ospital stays can put a strain on your personal finances. The average cost of a one-day stay in the hospital is over $1,700.*.', 'is_selected': 0}]\n",
      "['$420 per day on average']\n",
      "37253\n",
      "++++++++++++++++++++++++++++++++\n",
      "how many types of grain\n",
      "[{'url': 'http://www.glnc.org.au/grains/types-of-grains/', 'passage_text': 'Types of Grains. Grains, commonly referred to as ‘cereals’ or ‘cereal grains’, are the edible seeds of specific grasses belonging to the Poaceae (also known as Gramineae) family.', 'is_selected': 0}, {'url': 'http://foodblogga.blogspot.com/2008/05/how-many-whole-grains-can-you-name.html', 'passage_text': \"Therefore, it is a quick-cooking, highly nutritious grain. 1/4 cup dry bulgur is approximately 120 calories, 4 grams of protein, and 26 grams of carbohydrates. It also contains 5% of your daily calcium needs. It's high in manganese and iron and has more fiber than most whole grains.\", 'is_selected': 0}, {'url': 'http://foodblogga.blogspot.com/2008/05/how-many-whole-grains-can-you-name.html', 'passage_text': '1 If you named 6-10. 2  Then you likely have posters of all the Iron Chefs in your bedroom. 3  If you named 11 or more. 4  Then you either just Googled whole grains or you are a true smarty-pants and find you sometimes have difficulty getting along with others.', 'is_selected': 0}, {'url': 'http://www.glnc.org.au/grains/types-of-grains/', 'passage_text': 'Many of these, such as amaranth, buckwheat and quinoa (pronounced ‘keen-wah’), are not actually grains but are in fact seeds from a number of different plant species external to the Poaceae family.', 'is_selected': 0}, {'url': 'http://www.whatmyhomewants.com/types-of-rice-grains/', 'passage_text': 'Rice Length. There are three types of rice lengths: short, medium, and long. As you can imagine, the size of the rice grain changes what it’s best used for and how it yields after being cooked. 1  Long Grains: Long grains are, like you’d expect, long and skinny.', 'is_selected': 0}, {'url': 'http://www.glnc.org.au/grains/types-of-grains/', 'passage_text': 'Some types of wheat such as spelt, freekeh, emmer and eikorn are also becoming more popular. True Cereal Grains There are a number of different types of grains found within the true cereal grains which are from the botanical family ‘Poaceae’ including wheat, oats, rice, corn (maize) , barley, sorghum, rye, and millet.', 'is_selected': 0}, {'url': 'http://foodblogga.blogspot.com/2008/05/how-many-whole-grains-can-you-name.html', 'passage_text': 'According to the Whole Grains Council, there are 19 whole grains : Technically speaking, whole grains retain the bran and germ as well as the endosperm unlike refined grains, which retain the endosperm only.', 'is_selected': 0}, {'url': 'https://www.choosemyplate.gov/grains', 'passage_text': 'Any food made from wheat, rice, oats, cornmeal, barley or another cereal grain is a grain product. Bread, pasta, oatmeal, breakfast cereals, tortillas, and grits are examples of grain products. Grains are divided into 2 subgroups, Whole Grains and Refined Grains. Whole grains contain the entire grain kernel ― the bran, germ, and endosperm. Examples of whole grains include whole-wheat flour, bulgur (cracked wheat), oatmeal, whole cornmeal, and brown rice. Refined grains have been milled, a process that removes the bran and germ.', 'is_selected': 1}, {'url': 'http://www.glnc.org.au/grains/types-of-grains/', 'passage_text': 'Wheat, oats and rice are the grains most commonly eaten in Australia, with others such as rye, barley, corn, triticale, millet and sorghum making a smaller contribution.', 'is_selected': 0}, {'url': 'http://foodblogga.blogspot.com/2008/05/how-many-whole-grains-can-you-name.html', 'passage_text': \"Though I love many whole grains, I'm partial to chewy, nutty bulgur, which is a form of whole wheat that has been cleaned, parboiled, dried, and ground into different types of coarseness (medium and fine are most commonly available in the US).\", 'is_selected': 0}]\n",
      "['Whole Grains and Refined Grains']\n",
      "298949\n",
      "++++++++++++++++++++++++++++++++\n",
      "cortana what's agony\n",
      "[{'url': 'http://www.dictionary.com/browse/irony', 'passage_text': 'noun, plural ironies. 1. the use of words to convey a meaning that is the opposite of its literal meaning: the irony of her reply, “How nice!” when I said I had to work all weekend. 2. Literature. a technique of indicating, as through character or plot development, an intention or attitude opposite to that which is actually or ostensibly stated.', 'is_selected': 0}, {'url': 'http://www.webmd.com/men/guide/is-my-penis-too-small', 'passage_text': \"But behind the closed doors of a doctor's examining room, it's a common question. Pediatric urologist Lane S. Palmer, MD, chief of pediatric urology at Cohen Children's Medical Center, New Hyde Park, N.Y., hears it a lot.\", 'is_selected': 0}, {'url': 'http://www.webmd.com/men/guide/is-my-penis-too-small', 'passage_text': \"Micropenis: When a Penis Really Is Too Small. There is, of course, such a thing as a very small penis. The medical term micropenis applies to the 0.6% of men with the smallest penises. According to Palmer's statistics, an SPL of three and two-thirds inches or less indicates a micropenis.\", 'is_selected': 0}, {'url': 'https://en.wikipedia.org/wiki/Boston_crab', 'passage_text': 'Boston crab. Chris Jericho with his Walls of Jericho (Elevated Boston crab) on Shawn Michaels. The Boston crab is a professional wrestling hold that typically starts with one wrestler lying in a supine position on the mat, with the other wrestler standing and facing him. It is a type of spinal lock where the wrestler hooks each of the opponent’s legs in one of his arms, and then turns the opponent face-down, stepping over him in the process.', 'is_selected': 0}, {'url': 'http://www.differencebetween.net/miscellaneous/difference-between-irony-and-sarcasm/', 'passage_text': 'Irony vs Sarcasm. Irony and sarcasm are often confused, which is understandable. In some cases, they are interchangeable. This is because sarcasm is a kind of irony, so all instances of sarcasm are irony, but not all instances of irony are sarcasm. Irony is when something appears to be or is said to be one way, but is actually another.', 'is_selected': 0}, {'url': 'http://www.dearcupid.org/question/what-does-first-second-third-base-mean-in.html', 'passage_text': 'I had my first date around 1971 with a high school sweethart. At that time first base was your first date. Just fondling and dry kissing, wet kissing was considered disgusting, no clothing was taken off. Second base included feeling each other more, she let me feel her tits through her blouse. Still no clothing was removed.', 'is_selected': 0}, {'url': 'http://www.dictionary.com/browse/agora', 'passage_text': \"a popular political assembly. 2. the place where such an assembly met, originally a marketplace or public square. 3. the Agora, the chief marketplace of Athens, center of the city's civic life. Origin of agora1.\", 'is_selected': 0}, {'url': 'https://www.buzzfeed.com/gavon/christina-aguilera-face', 'passage_text': 'Christina Aguilera Face. The agony and the Xtinasy of Christina Aguilera’s contorted face. This is what a stroke looks like in super slo-mo. Gavon Laessig.', 'is_selected': 0}, {'url': 'http://halo.wikia.com/wiki/Cortana_(level)', 'passage_text': 'Cortana (Cortana Moment): (A strange mix of cries of agony and psychotic laughter) Cortana (coming out of a speaker within a crashed Pelican): I tried to stay hidden, but there was no escape! He cornered me, wrapped me tight... and brought me close..', 'is_selected': 0}, {'url': 'http://halo.wikia.com/wiki/Cortana_(level)', 'passage_text': 'The Gravemind uses a line from Halo 2: We exist together now. Two corpses in one grave.. This line is referring to Cortana, and referred to the Prophet of Mercy in Halo 2. This line was said in the level High Charity..', 'is_selected': 0}]\n",
      "['No Answer Present.']\n"
     ]
    },
    {
     "name": "stdout",
     "output_type": "stream",
     "text": [
      "100086\n",
      "++++++++++++++++++++++++++++++++\n",
      "does bmw have adaptive cruise control\n",
      "[{'url': 'https://www.quora.com/Who-wrote-the-software-for-BMWs-Adaptive-Cruise-Control-and-how-does-the-algorithm-work', 'passage_text': \"Who wrote the software for BMW's Adaptive Cruise Control, and how does the algorithm work? I find that certain situations, like fully stopped traffic ahead or a large truck in the lane next to me, that confuses the ACC. I'd like to learn more about how the algorithm works, what confuses it, and why.\", 'is_selected': 0}, {'url': 'https://www.cartelligent.com/blog/should-your-new-car-have-adaptive-cruise-control', 'passage_text': \"Audi's adaptive cruise control is available on most models as part of the Advanced Technology Package or Driver Assistance Package. BMW's adaptive cruise control is available on most models as part of the ACC Stop & Go + Active Driving Assistant addition to the Driver Assistance Plus package.\", 'is_selected': 1}, {'url': 'http://www.autoexpress.co.uk/car-tech/98225/cruise-control-and-adaptive-cruise-control-the-complete-guide', 'passage_text': \"Cruise control and adaptive cruise control: the complete guide. Cruise control is a great extra to have if you do regular motorway journeys, while adaptive cruise control arguably makes even more sense. What is cruise control? Cruise control is an electronic system that automatically regulates a car's speed without the driver having to keep their foot on the accelerator.\", 'is_selected': 0}, {'url': 'https://www.quora.com/Who-wrote-the-software-for-BMWs-Adaptive-Cruise-Control-and-how-does-the-algorithm-work', 'passage_text': \"If I'm driving a car with adaptive cruise control/automatic braking and the car in front of me slams on the brakes, will my car brake right aw... Is it likely that present cars with ABS and cruise control, will be able to be converted to automatic braking and adaptive cruise control reso...\", 'is_selected': 0}, {'url': 'https://www.cartelligent.com/blog/should-your-new-car-have-adaptive-cruise-control', 'passage_text': \"BMW Active Cruise Control with Stop & Go function. BMW's adaptive cruise control is available on most models as part of the ACC Stop & Go + Active Driving Assistant addition to the Driver Assistance Plus package. Buick Adaptive Cruise Control. Buick’s adaptive cruise control is available on the Regal and LaCrosse.\", 'is_selected': 0}, {'url': 'http://www.autoexpress.co.uk/car-tech/98225/cruise-control-and-adaptive-cruise-control-the-complete-guide', 'passage_text': 'On some cars you can adjust your speed via a button, and the car will automatically change its speed accordingly. On a car with adaptive cruise control (ACC), you switch on the system, then you can raise or lower your speed as desired, and the car will accelerate to that set speed.', 'is_selected': 0}, {'url': 'http://www.jdpower.com/cars/articles/tips-advice/adaptive-cruise-control', 'passage_text': 'JDP 2.0 - CARS - Main Nav. Adaptive Cruise Control. Adaptive Cruise Control. Traditional cruise control-first offered in the United States on 1958 Chrysler models-certainly comes in handy on long drives. But cruise control has one drawback: it relies on the driver to judge the closing distance between their vehicle and the one in front. As automotive technology continues to evolve, traditional cruise control is gradually being replaced by adaptive cruise control (ACC).', 'is_selected': 0}, {'url': 'https://www.carwow.co.uk/blog/adaptive-cruise-control-explained', 'passage_text': 'We’re here with a series of guides to help explain some of the more modern technologies that you might not have seen on a car. This week, we’re looking at adaptive cruise control (ACC), otherwise known as DISTRONIC Plus (Mercedes), Active Cruise Control (BMW, Citroen and more), or Porsche Active Safe. People have always strived to make make the chore of driving that little bit easier to stomach.', 'is_selected': 0}, {'url': 'https://www.carwow.co.uk/blog/adaptive-cruise-control-explained', 'passage_text': 'How normal cruise control works. Variants of cruise control have been in use even before the creation of the car: the inventor and mechanical engineer James Watt developed a version as far back as the 17th century, which allowed steam engines to maintain a constant speed up and down inclines.', 'is_selected': 0}, {'url': 'http://www.autoguide.com/auto-news/2014/09/top-10-affordable-cars-adaptive-cruise-control.html', 'passage_text': 'Cars with adaptive cruise control will slow down and speed up according to the vehicle ahead, making highway commuting much easier. Some systems will even stop the car completely and then resume when traffic gets going again. Once you experience a well-executed system, you won’t want to go without.', 'is_selected': 0}]\n",
      "['Yes,bmw have adaptive cruise control.']\n",
      "163904\n",
      "++++++++++++++++++++++++++++++++\n"
     ]
    }
   ],
   "source": [
    "for i in range(0,5):\n",
    "    print(list(msmarco_2['query'].values())[i])\n",
    "    print(list(msmarco_2['passages'].values())[i])\n",
    "    print(list(msmarco_2['answers'].values())[i])\n",
    "    print(list(msmarco_2['query_id'].values())[i])\n",
    "    print('++++++++++++++++++++++++++++++++')"
   ]
  },
  {
   "cell_type": "raw",
   "metadata": {},
   "source": [
    "# How to use this data\n",
    "1 Містить питання набір паседжів де може міститись питанняб також лінк звідки цей паседж був дістаний\n",
    "    Можна використовувати для тренування IR моделі\n",
    "2 є набір паседжів і вибраний зних, в якому міститься відповідь:\n",
    "    можна тренувати вибір конкретного паседжу\n",
    "3 є відповідь із паседжу\n",
    "    можна тренувати comprehension model\n",
    "    можна змерджити із sqaud датасетом"
   ]
  },
  {
   "cell_type": "markdown",
   "metadata": {},
   "source": [
    "# TriviaQA http://nlp.cs.washington.edu/triviaqa/"
   ]
  },
  {
   "cell_type": "code",
   "execution_count": 1,
   "metadata": {},
   "outputs": [],
   "source": [
    "# utils for reading ds https://github.com/mandarjoshi90/triviaqa/tree/master/utils\n",
    "\n",
    "import json\n",
    "with open('datasets/triviaqa-unfiltered/unfiltered-web-train.json', 'rb', ) as f:\n",
    "    data = f.read()"
   ]
  },
  {
   "cell_type": "code",
   "execution_count": 5,
   "metadata": {},
   "outputs": [],
   "source": [
    "data = data.decode('utf-8')"
   ]
  },
  {
   "cell_type": "code",
   "execution_count": 9,
   "metadata": {},
   "outputs": [],
   "source": [
    "data=json.loads(data)"
   ]
  },
  {
   "cell_type": "code",
   "execution_count": 10,
   "metadata": {},
   "outputs": [
    {
     "data": {
      "text/plain": [
       "dict_keys(['Data', 'Domain', 'Split', 'VerifiedEval', 'Version'])"
      ]
     },
     "execution_count": 10,
     "metadata": {},
     "output_type": "execute_result"
    }
   ],
   "source": [
    "data.keys()"
   ]
  },
  {
   "cell_type": "code",
   "execution_count": 18,
   "metadata": {},
   "outputs": [
    {
     "data": {
      "text/plain": [
       "('unfiltered-web', 'train', False, 1.0)"
      ]
     },
     "execution_count": 18,
     "metadata": {},
     "output_type": "execute_result"
    }
   ],
   "source": [
    "data['Domain'],data['Split'],data['VerifiedEval'],data['Version']"
   ]
  },
  {
   "cell_type": "code",
   "execution_count": 11,
   "metadata": {},
   "outputs": [
    {
     "data": {
      "text/plain": [
       "87622"
      ]
     },
     "execution_count": 11,
     "metadata": {},
     "output_type": "execute_result"
    }
   ],
   "source": [
    "len(data['Data'])"
   ]
  },
  {
   "cell_type": "code",
   "execution_count": 29,
   "metadata": {},
   "outputs": [],
   "source": [
    "data_item=data['Data'][1]"
   ]
  },
  {
   "cell_type": "code",
   "execution_count": 30,
   "metadata": {},
   "outputs": [
    {
     "data": {
      "text/plain": [
       "dict_keys(['Answer', 'EntityPages', 'Question', 'QuestionId', 'QuestionSource', 'SearchResults'])"
      ]
     },
     "execution_count": 30,
     "metadata": {},
     "output_type": "execute_result"
    }
   ],
   "source": [
    "data_item.keys()"
   ]
  },
  {
   "cell_type": "code",
   "execution_count": 32,
   "metadata": {},
   "outputs": [
    {
     "data": {
      "text/plain": [
       "'Which American-born Sinclair won the Nobel Prize for Literature in 1930?'"
      ]
     },
     "execution_count": 32,
     "metadata": {},
     "output_type": "execute_result"
    }
   ],
   "source": [
    "data_item['Question']"
   ]
  },
  {
   "cell_type": "code",
   "execution_count": 33,
   "metadata": {},
   "outputs": [
    {
     "data": {
      "text/plain": [
       "{'Aliases': ['(Harry) Sinclair Lewis',\n",
       "  'Harry Sinclair Lewis',\n",
       "  'Lewis, (Harry) Sinclair',\n",
       "  'Grace Hegger',\n",
       "  'Sinclair Lewis'],\n",
       " 'MatchedWikiEntityName': 'Sinclair Lewis',\n",
       " 'NormalizedAliases': ['grace hegger',\n",
       "  'lewis harry sinclair',\n",
       "  'sinclair lewis',\n",
       "  'harry sinclair lewis'],\n",
       " 'NormalizedMatchedWikiEntityName': 'sinclair lewis',\n",
       " 'NormalizedValue': 'sinclair lewis',\n",
       " 'Type': 'WikipediaEntity',\n",
       " 'Value': 'Sinclair Lewis'}"
      ]
     },
     "execution_count": 33,
     "metadata": {},
     "output_type": "execute_result"
    }
   ],
   "source": [
    "data_item['Answer']"
   ]
  },
  {
   "cell_type": "code",
   "execution_count": 34,
   "metadata": {},
   "outputs": [
    {
     "data": {
      "text/plain": [
       "[{'DocSource': 'TagMe',\n",
       "  'Filename': 'Nobel_Prize_in_Literature.txt',\n",
       "  'LinkProbability': '0.77721',\n",
       "  'Rho': '0.51182',\n",
       "  'Title': 'Nobel Prize in Literature'}]"
      ]
     },
     "execution_count": 34,
     "metadata": {},
     "output_type": "execute_result"
    }
   ],
   "source": [
    "data_item['EntityPages']"
   ]
  },
  {
   "cell_type": "code",
   "execution_count": 35,
   "metadata": {},
   "outputs": [
    {
     "data": {
      "text/plain": [
       "47"
      ]
     },
     "execution_count": 35,
     "metadata": {},
     "output_type": "execute_result"
    }
   ],
   "source": [
    "len(data_item['SearchResults'])"
   ]
  },
  {
   "cell_type": "code",
   "execution_count": 36,
   "metadata": {},
   "outputs": [
    {
     "data": {
      "text/plain": [
       "{'Description': 'The Nobel Prize in Literature 1930 Sinclair ... The Nobel Prize in Literature 1930 was awarded to ... nobelprize.org/nobel_prizes/literature/laureates/1930/>',\n",
       " 'DisplayUrl': 'www.nobelprize.org/nobel_prizes/literature/laureates/1930',\n",
       " 'Filename': '46/46_46.txt',\n",
       " 'Rank': 0,\n",
       " 'Title': 'The Nobel Prize in Literature 1930',\n",
       " 'Url': 'http://www.nobelprize.org/nobel_prizes/literature/laureates/1930/'}"
      ]
     },
     "execution_count": 36,
     "metadata": {},
     "output_type": "execute_result"
    }
   ],
   "source": [
    "data_item['SearchResults'][0]"
   ]
  },
  {
   "cell_type": "code",
   "execution_count": 37,
   "metadata": {},
   "outputs": [
    {
     "data": {
      "text/plain": [
       "[{'Description': 'The Nobel Prize in Literature 1930 Sinclair ... The Nobel Prize in Literature 1930 was awarded to ... nobelprize.org/nobel_prizes/literature/laureates/1930/>',\n",
       "  'DisplayUrl': 'www.nobelprize.org/nobel_prizes/literature/laureates/1930',\n",
       "  'Filename': '46/46_46.txt',\n",
       "  'Rank': 0,\n",
       "  'Title': 'The Nobel Prize in Literature 1930',\n",
       "  'Url': 'http://www.nobelprize.org/nobel_prizes/literature/laureates/1930/'},\n",
       " {'Description': 'Sinclair Lewis 1930 Nobel Prize Winner ... Key Facts. Overview. In 1930, Sinclair Lewis from United States won the Nobel Prize in Literature \"for his vigorous and ...',\n",
       "  'DisplayUrl': 'nobel-prize-winners.findthedata.com/l/417/Sinclair-Lewis',\n",
       "  'Rank': 1,\n",
       "  'Title': 'Sinclair Lewis: 1930 Literature Nobel Laureate',\n",
       "  'Url': 'http://nobel-prize-winners.findthedata.com/l/417/Sinclair-Lewis'},\n",
       " {'Description': 'Download Sinclair Lewis - Nobel Prize in Literature, 1930 ... American writer to receive the Nobel Prize in Literature, ... novel won the 1926 Pulitzer Prize, ...',\n",
       "  'DisplayUrl': 'https://piratebay.host/torrent/11997302/Sinclair_Lewis_-_Nobel...',\n",
       "  'Rank': 2,\n",
       "  'Title': 'Sinclair Lewis - Nobel Prize in Literature, 1930 (20 books ...',\n",
       "  'Url': 'https://piratebay.host/torrent/11997302/Sinclair_Lewis_-_Nobel_Prize_in_Literature__1930_(20_books)'},\n",
       " {'Description': 'Download Sinclair Lewis - Nobel Prize in Literature, 1930 ... the latter of which reproduces the text of his Nobel Prize address. ...',\n",
       "  'DisplayUrl': 'https://kat.cr/sinclair-lewis-nobel-prize-in-literature-1930-20...',\n",
       "  'Rank': 3,\n",
       "  'Title': 'Download Sinclair Lewis - Nobel Prize in Literature, 1930 ...',\n",
       "  'Url': 'https://kat.cr/sinclair-lewis-nobel-prize-in-literature-1930-20-books-t10761358.html'},\n",
       " {'Description': 'Why Don’t More Americans Win the Nobel Prize? By . ... When the Nobel Prize in Literature was awarded to Sinclair ... In 1930, Lewis told his Nobel audience that ...',\n",
       "  'DisplayUrl': 'www.newyorker.com/.../why-dont-more-americans-win-the-nobel-prize',\n",
       "  'Filename': '194/194_50.txt',\n",
       "  'Rank': 4,\n",
       "  'Title': 'Why Don’t More Americans Win the Nobel Prize? - The New Yorker',\n",
       "  'Url': 'http://www.newyorker.com/books/page-turner/why-dont-more-americans-win-the-nobel-prize'},\n",
       " {'Description': '... Sauk Centre native Sinclair Lewis became the first American to be awarded a Nobel Prize for Literature. ... in 1930, Sauk Centre native Sinclair Lewis became the ...',\n",
       "  'DisplayUrl': 'wjon.com/sinclair-lewis-wins-nobel-prize-on-this-date-in-central...',\n",
       "  'Filename': '127/127_51.txt',\n",
       "  'Rank': 5,\n",
       "  'Title': 'Sinclair Lewis Wins Nobel Prize – on ‘This Date in Central ...',\n",
       "  'Url': 'http://wjon.com/sinclair-lewis-wins-nobel-prize-on-this-date-in-central-minnesota-history/'},\n",
       " {'Description': 'Sinclair Lewis - Nobel Prize in Literature, 1930 (20 books) Type ... Literature Fiction Classics Short Stories Essays American literature Nobel Prize Uploaded: 2015 ...',\n",
       "  'DisplayUrl': 'https://piratebay.bid/torrent/11997302/Sinclair_Lewis_-_Nobel...',\n",
       "  'Filename': '112/112_52.txt',\n",
       "  'Rank': 6,\n",
       "  'Title': 'Sinclair Lewis - Nobel Prize in Literature, 1930 (20 books ...',\n",
       "  'Url': 'https://piratebay.bid/torrent/11997302/Sinclair_Lewis_-_Nobel_Prize_in_Literature__1930_(20_books)'},\n",
       " {'Description': \"The Nobel Prize in Literature 1930 Sinclair Lewis. ... as janitor of Upton Sinclair's abortive co ... nobelprize.org/nobel_prizes/literature/laureates/1930/lewis ...\",\n",
       "  'DisplayUrl': 'www.nobelprize.org/nobel_prizes/literature/laureates/1930/lewis...',\n",
       "  'Filename': '36/36_53.txt',\n",
       "  'Rank': 7,\n",
       "  'Title': 'Sinclair Lewis - Biographical - Nobel Prize',\n",
       "  'Url': 'http://www.nobelprize.org/nobel_prizes/literature/laureates/1930/lewis-bio.html'},\n",
       " {'Description': 'Sinclair Lewis Becomes the First American to be Awarded the Nobel Prize for Literature. ... In 1930, Lewis won the Nobel Prize in Literature, ... 1930, Sinclair Lewis ...',\n",
       "  'DisplayUrl': 'https://worldhistoryproject.org/1930/sinclair-lewis-becomes-the...',\n",
       "  'Filename': '83/83_54.txt',\n",
       "  'Rank': 8,\n",
       "  'Title': 'Sinclair Lewis Becomes the First American to be Awarded ...',\n",
       "  'Url': 'https://worldhistoryproject.org/1930/sinclair-lewis-becomes-the-first-american-to-be-awarded-the-nobel-prize-for-literature'},\n",
       " {'Description': 'Download Sinclair Lewis - Nobel Prize in Literature, 1930 ... Sinclair Lewis - Nobel Prize in Literature, 1930 (20 books) seeders: 4. leechers: 3. Download torrent.',\n",
       "  'DisplayUrl': 'kickasstorrents.ee/sinclair-lewis-nobel-prize-in-literature-1930...',\n",
       "  'Filename': '188/188_55.txt',\n",
       "  'Rank': 9,\n",
       "  'Title': 'Download Sinclair Lewis - Nobel Prize in Literature, 1930 ...',\n",
       "  'Url': 'http://kickasstorrents.ee/sinclair-lewis-nobel-prize-in-literature-1930-20-books-t10761358.html'},\n",
       " {'Description': '... An American Nobel Prize in Literature on ... 1930 An American Nobel Prize in Literature. ... Sinclair Lewis is awarded the Nobel Prize in Literature “for ...',\n",
       "  'DisplayUrl': 'www.history.com/.../an-american-nobel-prize-in-literature',\n",
       "  'Filename': '192/192_56.txt',\n",
       "  'Rank': 10,\n",
       "  'Title': 'An American Nobel Prize in Literature - Nov 05, 1930 ...',\n",
       "  'Url': 'http://www.history.com/this-day-in-history/an-american-nobel-prize-in-literature'},\n",
       " {'Description': '... (1930) Sinclair Lewis receives Nobel Prize in ... Lewis received the 1930 Nobel Prize for Literature ... 1951) in the year he won the Nobel prize for Literature ...',\n",
       "  'DisplayUrl': 'www.gettyimages.com/...sinclair...nobel-prize-in-literature-52968108',\n",
       "  'Rank': 11,\n",
       "  'Title': '05 Nov (1930) Sinclair Lewis receives Nobel Prize in ...',\n",
       "  'Url': 'http://www.gettyimages.com/event/nov-sinclair-lewis-receives-nobel-prize-in-literature-52968108'},\n",
       " {'Description': '... he became the first American writer to receive the Nobel Prize in Literature, ... Nobel Prize in 1930, ... sinclair-lewis-nobel-prize-in-literature-1930-20 ...',\n",
       "  'DisplayUrl': 'cytorrents.com/sinclair-lewis-nobel-prize-in-literature-1930-tf...',\n",
       "  'Rank': 12,\n",
       "  'Title': 'Download Sinclair Lewis - Nobel Prize in Literature, 1930 ...',\n",
       "  'Url': 'http://cytorrents.com/sinclair-lewis-nobel-prize-in-literature-1930-tf4685114.html'},\n",
       " {'Description': '... a Nobel Prize Laureate in Literature, at the Nobel Prize ... 1930 Nobel Laureate in Literature. ... Links added by Nobel Internet Archive visitors. Sinclair ...',\n",
       "  'DisplayUrl': 'almaz.com/nobel/literature/1930a.html',\n",
       "  'Rank': 13,\n",
       "  'Title': 'Sinclair Lewis Winner of the 1930 Nobel Prize in Literature',\n",
       "  'Url': 'http://almaz.com/nobel/literature/1930a.html'},\n",
       " {'Description': \"Transcript of Books/Literature in the 1930's ...\",\n",
       "  'DisplayUrl': 'https://prezi.com/enyr2qdyc5yj/booksliterature-in-the-1930s',\n",
       "  'Rank': 14,\n",
       "  'Title': \"Books/Literature in the 1930's by Sydney Walker on Prezi\",\n",
       "  'Url': 'https://prezi.com/enyr2qdyc5yj/booksliterature-in-the-1930s/'},\n",
       " {'Description': 'Sinclair Lewis (1885-1951) won the Nobel ... won the Nobel Prize for literature in 1930, ... he went to Yale but left before graduation to work in Upton Sinclair ...',\n",
       "  'DisplayUrl': 'www.penguinrandomhouse.com/authors/17561',\n",
       "  'Rank': 15,\n",
       "  'Title': 'Sinclair Lewis | Penguin Random House',\n",
       "  'Url': 'http://www.penguinrandomhouse.com/authors/17561/sinclair-lewis'},\n",
       " {'Description': '... Nobel Prize in Literature, 1930 ... The novel won the 1926 Pulitzer Prize, ... Sinclair Lewis - Nobel Prize in Literature, 1930 ...',\n",
       "  'DisplayUrl': 'kickass.cd/sinclair-lewis-nobel-prize-in-literature-1930-20-books...',\n",
       "  'Rank': 16,\n",
       "  'Title': 'Download Sinclair Lewis - Nobel Prize in Literature, 1930 ...',\n",
       "  'Url': 'http://kickass.cd/sinclair-lewis-nobel-prize-in-literature-1930-20-books-t10761358.html'},\n",
       " {'Description': '... Nobel Prize in Literature, 1930 ... Harry Sinclair Lewis, Nobel Prize in Literature, 1930: ... In 1930, Lewis won the Nobel Prize in Literature, ...',\n",
       "  'DisplayUrl': 'https://www.geni.com/people/Sinclair-Lewis/6000000014566428984',\n",
       "  'Rank': 17,\n",
       "  'Title': 'Harry Sinclair Lewis, Nobel Prize in Literature, 1930 ...',\n",
       "  'Url': 'https://www.geni.com/people/Sinclair-Lewis/6000000014566428984'},\n",
       " {'Description': 'Sinclair Lewis (1885-1951) won the Nobel ... he went to Yale but left before graduation to work in Upton Sinclair ... won the Nobel Prize for literature in 1930, ...',\n",
       "  'DisplayUrl': 'www.penguin.com/author/sinclair-lewis/17561',\n",
       "  'Rank': 18,\n",
       "  'Title': 'Sinclair Lewis - Penguin Books USA',\n",
       "  'Url': 'http://www.penguin.com/author/sinclair-lewis/17561'},\n",
       " {'Description': 'Harry Sinclair Lewis ... He won the Nobel Prize for Literature in 1930, ... His reputation declined steadily after 1930. His two ...',\n",
       "  'DisplayUrl': 'www.nobel-winners.com/Literature/harry_sinclair_lewis.html',\n",
       "  'Rank': 19,\n",
       "  'Title': 'Harry Sinclair Lewis - Nobel Winners',\n",
       "  'Url': 'http://www.nobel-winners.com/Literature/harry_sinclair_lewis.html'},\n",
       " {'Description': 'Widely considered one of Sinclair Lewis\\' finest novels, Arrowsmith was awarded the Pulitzer Prize. Lewis, ... commenting \"All prizes are dangerous\" ...',\n",
       "  'DisplayUrl': 'https://play.google.com/.../Sinclair_Lewis_Arrowsmith?id=ibv3AAAAQBAJ',\n",
       "  'Rank': 20,\n",
       "  'Title': 'Arrowsmith - Books on Google Play',\n",
       "  'Url': 'https://play.google.com/store/books/details/Sinclair_Lewis_Arrowsmith?id=ibv3AAAAQBAJ'},\n",
       " {'Description': 'Sinclair Lewis on IMDb: Awards, ... 1930 Won Nobel Prize in Literature ... Nobel Prize for Literature a list of 102 people',\n",
       "  'DisplayUrl': 'www.imdb.com/name/nm0507760/awards',\n",
       "  'Rank': 21,\n",
       "  'Title': 'Sinclair Lewis - Awards - IMDb',\n",
       "  'Url': 'http://www.imdb.com/name/nm0507760/awards'},\n",
       " {'Description': 'Author:Sinclair Lewis. ... and plays who won the Nobel Prize for Literature in 1930. Sinclair Lewis ... Nobel laureates in Literature;',\n",
       "  'DisplayUrl': 'https://en.wikisource.org/wiki/Author:Sinclair_Lewis',\n",
       "  'Rank': 22,\n",
       "  'Title': 'Sinclair Lewis - Wikisource, the free online library',\n",
       "  'Url': 'https://en.wikisource.org/wiki/Author:Sinclair_Lewis'},\n",
       " {'Description': \"Transcript of Science, Technology, and Innovation of the ... in the 1930's Thomas Edison Sigmund ... U.S Nobel Prize Winners Sinclair Lewis won the Nobel Prize ...\",\n",
       "  'DisplayUrl': 'https://prezi.com/.../science-technology-and-innovation-of-the-1930s',\n",
       "  'Rank': 23,\n",
       "  'Title': \"Science, Technology, and Innovation of the 1930's by jesse ...\",\n",
       "  'Url': 'https://prezi.com/vkmznpw7hh4y/science-technology-and-innovation-of-the-1930s/'},\n",
       " {'Description': 'Sinclair Lewis. Sinclair Lewis (1885 ... won the Nobel Prize for Literature in 1930, ... he attended Yale University but left before graduation to work in Upton ...',\n",
       "  'DisplayUrl': 'https://tantor.com/author/sinclair-lewis.html',\n",
       "  'Rank': 24,\n",
       "  'Title': 'Tantor Media - Sinclair Lewis',\n",
       "  'Url': 'https://tantor.com/author/sinclair-lewis.html'},\n",
       " {'Description': 'Feb. 7 marks the 130th birthday of Sinclair Lewis, who won the Nobel Prize ... who won the Nobel Prize for Literature in 1930. ... What a 1925 novel by Sinclair Lewis ...',\n",
       "  'DisplayUrl': 'www.pbs.org/newshour/updates/happy-birthday-sinclair-lewis',\n",
       "  'Rank': 25,\n",
       "  'Title': 'What a 1925 novel by Sinclair Lewis can teach us about ...',\n",
       "  'Url': 'http://www.pbs.org/newshour/updates/happy-birthday-sinclair-lewis/'},\n",
       " {'Description': \"Sinclair. This prim and proper name hasn't generated much heat since American novelist Sinclair Lewis won the Nobel Prize for literature in 1930. Comments (0)\",\n",
       "  'DisplayUrl': 'www.parenting.com/baby-names/boys/Sinclair',\n",
       "  'Rank': 26,\n",
       "  'Title': 'Sinclair | Parenting',\n",
       "  'Url': 'http://www.parenting.com/baby-names/boys/Sinclair'},\n",
       " {'Description': \"Sinclair Lewis' Nobel Prize: a Critique of the American ... In 1930, Sinclair Lewis became the first American to be awarded the Nobel Prize in Literature. His won ...\",\n",
       "  'DisplayUrl': 'blog.bookstellyouwhy.com/sinclair-lewis-nobel-prize-roast-a...',\n",
       "  'Rank': 27,\n",
       "  'Title': \"Sinclair Lewis' Nobel Prize: a Critique of the American ...\",\n",
       "  'Url': 'http://blog.bookstellyouwhy.com/sinclair-lewis-nobel-prize-roast-a-critique-of-the-american-literary-establishment'},\n",
       " {'Description': 'Received the 1930 Nobel Prize for Literature “for his vigorous and ... American Nobel Laureates in Literature. ... He won the Nobel Prize in Literature “for ...',\n",
       "  'DisplayUrl': 'https://tomastranstromer.net/nobel-prize/american-nobel-laureates...',\n",
       "  'Filename': '131/131_74.txt',\n",
       "  'Rank': 28,\n",
       "  'Title': 'American Nobel Laureates in Literature | Tomas Tranströmer',\n",
       "  'Url': 'https://tomastranstromer.net/nobel-prize/american-nobel-laureates-in-literature/'},\n",
       " {'Description': '1930: Lewis Wins the Nobel . By Schwarz, ... ON NOVEMBER 5 Sinclair Lewis became the first American writer to win the Nobel Prize for Literature. ... Nobel Prizes ...',\n",
       "  'DisplayUrl': 'https://www.questia.com/.../1G1-144297382/1930-lewis-wins-the-nobel',\n",
       "  'Rank': 29,\n",
       "  'Title': '\"1930: Lewis Wins the Nobel\" by Schwarz, Frederic D ...',\n",
       "  'Url': 'https://www.questia.com/magazine/1G1-144297382/1930-lewis-wins-the-nobel'},\n",
       " {'Description': '... the Nobel Prize in Literature went to the Italian Giosuè Carducci, ... Sinclair Lewis won the prize in 1930 for Main Street, Babbitt, and ... Nobel Prize winner.',\n",
       "  'DisplayUrl': 'litcur.com/the-nobel-prize-in-literature',\n",
       "  'Rank': 30,\n",
       "  'Title': 'The Nobel Prize in Literature | literary curiosities',\n",
       "  'Url': 'http://litcur.com/the-nobel-prize-in-literature/'},\n",
       " {'Description': 'The Nobel Prize for Literature in 1907 was not exactly ... Are all Nobel prize winner ... Sample this from Elmer Gantry by Sinclair Lewis, who won the 1930 Nobel.',\n",
       "  'DisplayUrl': 'https://www.quora.com/Are-all-Nobel-prize-winner-books-sad',\n",
       "  'Rank': 31,\n",
       "  'Title': 'Are all Nobel prize winner books sad? - Quora',\n",
       "  'Url': 'https://www.quora.com/Are-all-Nobel-prize-winner-books-sad'},\n",
       " {'Description': 'He won the Nobel Prize for Literature in 1930, the first given to an American. ... Lewis, Sinclair Harris & Ewing Collection/Library of Congress, Washington, ...',\n",
       "  'DisplayUrl': 'https://www.britannica.com/biography/Sinclair-Lewis',\n",
       "  'Rank': 32,\n",
       "  'Title': 'Sinclair Lewis | American writer | Britannica.com',\n",
       "  'Url': 'https://www.britannica.com/biography/Sinclair-Lewis'},\n",
       " {'Description': '... Eugene O’Neill in 1936 and Sinclair Lewis in 1930. ... who won the economics prize, ... fears and humility today at winning the Nobel Prize for Literature.',\n",
       "  'DisplayUrl': 'https://www.nytimes.com/books/97/05/25/reviews/bellow-prize.html',\n",
       "  'Filename': '100/100_79.txt',\n",
       "  'Rank': 33,\n",
       "  'Title': 'Reviews - The New York Times',\n",
       "  'Url': 'https://www.nytimes.com/books/97/05/25/reviews/bellow-prize.html'},\n",
       " {'Description': '1930 Son, Michael, is born. Becomes first American awarded the Nobel Prize for Literature. ... 1937 Selected Short Stories of Sinclair Lewis is published.',\n",
       "  'DisplayUrl': 'english.illinoisstate.edu/sinclairlewis/sinclair_lewis/timeline.shtml',\n",
       "  'Rank': 34,\n",
       "  'Title': 'The Sinclair Lewis Society: Sinclair Lewis - TimeLine',\n",
       "  'Url': 'http://english.illinoisstate.edu/sinclairlewis/sinclair_lewis/timeline.shtml'},\n",
       " {'Description': 'UNITED STATES NOBEL PRIZE WINNERS (40% of world total ... 1930, Literature, Sinclair Lewis 1936, Literature, Eugene ...',\n",
       "  'DisplayUrl': 'jinfo.org/US_Nobel_Prizes.html',\n",
       "  'Rank': 35,\n",
       "  'Title': 'US Nobel Prize Winners - JINFO.ORG',\n",
       "  'Url': 'http://jinfo.org/US_Nobel_Prizes.html'},\n",
       " {'Description': 'Study online flashcards and notes for Nobel Prize Literature Winners including Who won the 1904 Nobel ... Who won the 1930 Nobel Prize in Literature? ... Sinclair ...',\n",
       "  'DisplayUrl': 'https://www.studyblue.com/notes/note/n/nobel-prize-literature...',\n",
       "  'Filename': '124/124_82.txt',\n",
       "  'Rank': 36,\n",
       "  'Title': 'Nobel Prize Literature Winners - Literature with Hamilton ...',\n",
       "  'Url': 'https://www.studyblue.com/notes/note/n/nobel-prize-literature-winners/deck/9163788'},\n",
       " {'Description': \"... Nov. 12.--The Nobel Prize in Literature was awarded ... to win the literature prize. Sinclair ... in 1930. Mr. O'Neill will receive the prizes for ...\",\n",
       "  'DisplayUrl': 'https://partners.nytimes.com/library/theater/111336oneill-nobel.html',\n",
       "  'Rank': 37,\n",
       "  'Title': \"Nobel Prize Awarded to O'Neill - partners.nytimes.com\",\n",
       "  'Url': 'https://partners.nytimes.com/library/theater/111336oneill-nobel.html'},\n",
       " {'Description': 'He won the Nobel Prize for literature in 1930. WORKS ... Sinclair; Sinclair Lewis; Sinclair PC200; Sinclair Radionics; Sinclair Research; Sinclair, Sir John; Sinclair ...',\n",
       "  'DisplayUrl': 'encyclopedia2.thefreedictionary.com/Sinclair+Lewis',\n",
       "  'Rank': 38,\n",
       "  'Title': 'Sinclair Lewis | Article about Sinclair Lewis by The Free ...',\n",
       "  'Url': 'http://encyclopedia2.thefreedictionary.com/Sinclair+Lewis'},\n",
       " {'Description': 'For more information on the prize and the laureates, see http://nobelprize.org/nobel ... 1930: Sinclair Lewis: U.S. 1931: Erik ... Women Who Have Won the Nobel Prize ...',\n",
       "  'DisplayUrl': 'www.interleaves.org/~rteeter/grtnobel.html',\n",
       "  'Rank': 39,\n",
       "  'Title': 'Nobel Prize Winners in Literature - interleaves.org',\n",
       "  'Url': 'http://www.interleaves.org/~rteeter/grtnobel.html'},\n",
       " {'Description': 'American Nobel Laureates in Literature ... Eleven Americans have won the prestigious Nobel Prize for Literature, ... Sinclair Lewis (1930) Babbitt, ...',\n",
       "  'DisplayUrl': 'https://www.uclaextension.edu/InstructorContent/prod/FileRoot/...',\n",
       "  'Rank': 40,\n",
       "  'Title': 'OSHER LIFELONG LEARNING INSTITUTE At UCLA EXTENSION ...',\n",
       "  'Url': 'https://www.uclaextension.edu/InstructorContent/prod/FileRoot/Syllabus/210452.pdf'},\n",
       " {'Description': '... Seven miners were killed in the 1930 ... Karl Landsteiner won the Nobel Prize for Medicine for his ... The Nobel Prize for Literature went to Sinclair ...',\n",
       "  'DisplayUrl': 'www.bhamwiki.com/w/1930',\n",
       "  'Rank': 41,\n",
       "  'Title': '1930 - Bhamwiki',\n",
       "  'Url': 'http://www.bhamwiki.com/w/1930'},\n",
       " {'Description': '... (1930- ). He won the 2000 Nobel Prize in Physics for developing semiconductor heterostructures uded in electronics.. ... He won the 1953 Nobel Prize in Literature.',\n",
       "  'DisplayUrl': 'billwall.phpwebhosting.com/articles/nobel.htm',\n",
       "  'Rank': 42,\n",
       "  'Title': 'Zhores Alferov (1930- )',\n",
       "  'Url': 'http://billwall.phpwebhosting.com/articles/nobel.htm'},\n",
       " {'Description': 'This classic by Sinclair Lewis shattered the sentimental American myth of happy small ... won the Nobel Prize for literature in 1930, the first American novelist to ...',\n",
       "  'DisplayUrl': 'https://www.bookdepository.com/Main-Street-Sinclair-Lewis/...',\n",
       "  'Rank': 43,\n",
       "  'Title': 'Main Street : Sinclair Lewis : 9780553214512',\n",
       "  'Url': 'https://www.bookdepository.com/Main-Street-Sinclair-Lewis/9780553214512'},\n",
       " {'Description': 'Sinclair Lewis. Mother died. Graduated from Yale. ... Won the Nobel Prize in Literature. 1930. First American to do so. Death of son Wells Lewis in World War 2. 1944.',\n",
       "  'DisplayUrl': 'https://www.preceden.com/timelines/64108-sinclair-lewis',\n",
       "  'Rank': 44,\n",
       "  'Title': 'Sinclair Lewis Timeline | Preceden',\n",
       "  'Url': 'https://www.preceden.com/timelines/64108-sinclair-lewis'},\n",
       " {'Description': 'Nobel prize winning ... American novelist and social critic Sinclair Lewis was born in ... He won the Nobel Prize for Literature in 1930, the first awarded to an ...',\n",
       "  'DisplayUrl': 'chronita.com/February/7',\n",
       "  'Rank': 45,\n",
       "  'Title': 'Today in History - Unix Calendar - chronita.com',\n",
       "  'Url': 'http://chronita.com/February/7/'},\n",
       " {'Description': '... Sinclair Lewis refused the Nobel Prize for literature. ... In 1930, he received the Nobel Prize, ... American author Sinclair Lewis refused the Nobel Prize for ...',\n",
       "  'DisplayUrl': 'articles.latimes.com/keyword/sinclair-lewis',\n",
       "  'Rank': 46,\n",
       "  'Title': 'Articles about Sinclair Lewis - latimes',\n",
       "  'Url': 'http://articles.latimes.com/keyword/sinclair-lewis'}]"
      ]
     },
     "execution_count": 37,
     "metadata": {},
     "output_type": "execute_result"
    }
   ],
   "source": [
    "data_item['SearchResults']"
   ]
  },
  {
   "cell_type": "code",
   "execution_count": 38,
   "metadata": {},
   "outputs": [
    {
     "data": {
      "text/plain": [
       "['http://www.nobelprize.org/nobel_prizes/literature/laureates/1930/',\n",
       " 'http://nobel-prize-winners.findthedata.com/l/417/Sinclair-Lewis',\n",
       " 'https://piratebay.host/torrent/11997302/Sinclair_Lewis_-_Nobel_Prize_in_Literature__1930_(20_books)',\n",
       " 'https://kat.cr/sinclair-lewis-nobel-prize-in-literature-1930-20-books-t10761358.html',\n",
       " 'http://www.newyorker.com/books/page-turner/why-dont-more-americans-win-the-nobel-prize',\n",
       " 'http://wjon.com/sinclair-lewis-wins-nobel-prize-on-this-date-in-central-minnesota-history/',\n",
       " 'https://piratebay.bid/torrent/11997302/Sinclair_Lewis_-_Nobel_Prize_in_Literature__1930_(20_books)',\n",
       " 'http://www.nobelprize.org/nobel_prizes/literature/laureates/1930/lewis-bio.html',\n",
       " 'https://worldhistoryproject.org/1930/sinclair-lewis-becomes-the-first-american-to-be-awarded-the-nobel-prize-for-literature',\n",
       " 'http://kickasstorrents.ee/sinclair-lewis-nobel-prize-in-literature-1930-20-books-t10761358.html',\n",
       " 'http://www.history.com/this-day-in-history/an-american-nobel-prize-in-literature',\n",
       " 'http://www.gettyimages.com/event/nov-sinclair-lewis-receives-nobel-prize-in-literature-52968108',\n",
       " 'http://cytorrents.com/sinclair-lewis-nobel-prize-in-literature-1930-tf4685114.html',\n",
       " 'http://almaz.com/nobel/literature/1930a.html',\n",
       " 'https://prezi.com/enyr2qdyc5yj/booksliterature-in-the-1930s/',\n",
       " 'http://www.penguinrandomhouse.com/authors/17561/sinclair-lewis',\n",
       " 'http://kickass.cd/sinclair-lewis-nobel-prize-in-literature-1930-20-books-t10761358.html',\n",
       " 'https://www.geni.com/people/Sinclair-Lewis/6000000014566428984',\n",
       " 'http://www.penguin.com/author/sinclair-lewis/17561',\n",
       " 'http://www.nobel-winners.com/Literature/harry_sinclair_lewis.html',\n",
       " 'https://play.google.com/store/books/details/Sinclair_Lewis_Arrowsmith?id=ibv3AAAAQBAJ',\n",
       " 'http://www.imdb.com/name/nm0507760/awards',\n",
       " 'https://en.wikisource.org/wiki/Author:Sinclair_Lewis',\n",
       " 'https://prezi.com/vkmznpw7hh4y/science-technology-and-innovation-of-the-1930s/',\n",
       " 'https://tantor.com/author/sinclair-lewis.html',\n",
       " 'http://www.pbs.org/newshour/updates/happy-birthday-sinclair-lewis/',\n",
       " 'http://www.parenting.com/baby-names/boys/Sinclair',\n",
       " 'http://blog.bookstellyouwhy.com/sinclair-lewis-nobel-prize-roast-a-critique-of-the-american-literary-establishment',\n",
       " 'https://tomastranstromer.net/nobel-prize/american-nobel-laureates-in-literature/',\n",
       " 'https://www.questia.com/magazine/1G1-144297382/1930-lewis-wins-the-nobel',\n",
       " 'http://litcur.com/the-nobel-prize-in-literature/',\n",
       " 'https://www.quora.com/Are-all-Nobel-prize-winner-books-sad',\n",
       " 'https://www.britannica.com/biography/Sinclair-Lewis',\n",
       " 'https://www.nytimes.com/books/97/05/25/reviews/bellow-prize.html',\n",
       " 'http://english.illinoisstate.edu/sinclairlewis/sinclair_lewis/timeline.shtml',\n",
       " 'http://jinfo.org/US_Nobel_Prizes.html',\n",
       " 'https://www.studyblue.com/notes/note/n/nobel-prize-literature-winners/deck/9163788',\n",
       " 'https://partners.nytimes.com/library/theater/111336oneill-nobel.html',\n",
       " 'http://encyclopedia2.thefreedictionary.com/Sinclair+Lewis',\n",
       " 'http://www.interleaves.org/~rteeter/grtnobel.html',\n",
       " 'https://www.uclaextension.edu/InstructorContent/prod/FileRoot/Syllabus/210452.pdf',\n",
       " 'http://www.bhamwiki.com/w/1930',\n",
       " 'http://billwall.phpwebhosting.com/articles/nobel.htm',\n",
       " 'https://www.bookdepository.com/Main-Street-Sinclair-Lewis/9780553214512',\n",
       " 'https://www.preceden.com/timelines/64108-sinclair-lewis',\n",
       " 'http://chronita.com/February/7/',\n",
       " 'http://articles.latimes.com/keyword/sinclair-lewis']"
      ]
     },
     "execution_count": 38,
     "metadata": {},
     "output_type": "execute_result"
    }
   ],
   "source": [
    "[item['Url'] for item in data_item['SearchResults']]"
   ]
  },
  {
   "cell_type": "code",
   "execution_count": null,
   "metadata": {},
   "outputs": [],
   "source": [
    "Є питання і песедж, звідки взято та відповідь\n",
    "є досить складні питання на котрі немає відповіді в паседжах"
   ]
  },
  {
   "cell_type": "markdown",
   "metadata": {},
   "source": [
    "# WikiReading Data https://github.com/google-research-datasets/wiki-reading"
   ]
  },
  {
   "cell_type": "raw",
   "metadata": {},
   "source": [
    "there is 45GB,  16 MLN rows, in prety same format as a SQuAD dataset\n",
    "I think it should be next step in training, when i will get working prototype"
   ]
  },
  {
   "cell_type": "code",
   "execution_count": null,
   "metadata": {},
   "outputs": [],
   "source": []
  }
 ],
 "metadata": {
  "kernelspec": {
   "display_name": "Python 3",
   "language": "python",
   "name": "python3"
  },
  "language_info": {
   "codemirror_mode": {
    "name": "ipython",
    "version": 3
   },
   "file_extension": ".py",
   "mimetype": "text/x-python",
   "name": "python",
   "nbconvert_exporter": "python",
   "pygments_lexer": "ipython3",
   "version": "3.6.4"
  }
 },
 "nbformat": 4,
 "nbformat_minor": 2
}
